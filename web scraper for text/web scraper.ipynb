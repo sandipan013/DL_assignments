{
 "cells": [
  {
   "cell_type": "markdown",
   "metadata": {},
   "source": [
    "#### I am going to scrape the pizza details from the Pizza hut website."
   ]
  },
  {
   "cell_type": "markdown",
   "metadata": {},
   "source": [
    "![title](pizza_hut_page.png)"
   ]
  },
  {
   "cell_type": "markdown",
   "metadata": {},
   "source": [
    "#### We are using the highlighted tags and class to get the Pizza title and Description"
   ]
  },
  {
   "cell_type": "markdown",
   "metadata": {},
   "source": [
    "![title](html_tag_class.png)"
   ]
  },
  {
   "cell_type": "code",
   "execution_count": 1,
   "metadata": {},
   "outputs": [],
   "source": [
    "import requests\n",
    "from bs4 import BeautifulSoup\n",
    "#To save the reviews in a dataframe \n",
    "import pandas as pd"
   ]
  },
  {
   "cell_type": "code",
   "execution_count": 2,
   "metadata": {},
   "outputs": [],
   "source": [
    "url = 'https://www.pizzahut.co.in/menu/pizzas'\n",
    "\n",
    "user_agent = {'User-agent': 'Mozilla/5.0'}\n",
    "response = requests.get(url, headers = user_agent)\n",
    "\n",
    "soup = BeautifulSoup(response.text, 'html.parser')"
   ]
  },
  {
   "cell_type": "code",
   "execution_count": 3,
   "metadata": {},
   "outputs": [],
   "source": [
    "pizza_dict = {'name':[], 'description':[]}"
   ]
  },
  {
   "cell_type": "code",
   "execution_count": 4,
   "metadata": {},
   "outputs": [],
   "source": [
    "for pizza in soup.find_all('li', class_='css-1bbmidb'):\n",
    "    try:\n",
    "        pizza_dict['name'].append(pizza.find('h2', class_='css-387jy6').text)\n",
    "    except:\n",
    "        pizza_dict['name'].append(\"Pizza name\")\n",
    "    \n",
    "    try:\n",
    "        pizza_dict['description'].append(pizza.find('p', class_='css-yp9swi').text)\n",
    "    except:\n",
    "        pizza_dict['description'].append(\"Pizza Details\")"
   ]
  },
  {
   "cell_type": "code",
   "execution_count": 5,
   "metadata": {},
   "outputs": [],
   "source": [
    "pizza_df = pd.DataFrame(pizza_dict)"
   ]
  },
  {
   "cell_type": "code",
   "execution_count": 6,
   "metadata": {},
   "outputs": [
    {
     "data": {
      "text/html": [
       "<div>\n",
       "<style scoped>\n",
       "    .dataframe tbody tr th:only-of-type {\n",
       "        vertical-align: middle;\n",
       "    }\n",
       "\n",
       "    .dataframe tbody tr th {\n",
       "        vertical-align: top;\n",
       "    }\n",
       "\n",
       "    .dataframe thead th {\n",
       "        text-align: right;\n",
       "    }\n",
       "</style>\n",
       "<table border=\"1\" class=\"dataframe\">\n",
       "  <thead>\n",
       "    <tr style=\"text-align: right;\">\n",
       "      <th></th>\n",
       "      <th>name</th>\n",
       "      <th>description</th>\n",
       "    </tr>\n",
       "  </thead>\n",
       "  <tbody>\n",
       "    <tr>\n",
       "      <td>0</td>\n",
       "      <td>Double Paneer Supreme</td>\n",
       "      <td>Spiced Paneer, Herbed Onion &amp; Green Capsicum, ...</td>\n",
       "    </tr>\n",
       "    <tr>\n",
       "      <td>1</td>\n",
       "      <td>Veg Exotica</td>\n",
       "      <td>Baby Corn, Black Olives, Green Capsicum, Jalap...</td>\n",
       "    </tr>\n",
       "    <tr>\n",
       "      <td>2</td>\n",
       "      <td>Veggie Supreme</td>\n",
       "      <td>Black Olives, Green Capsicum, Mushroom, Onion,...</td>\n",
       "    </tr>\n",
       "    <tr>\n",
       "      <td>3</td>\n",
       "      <td>Chicken Supreme</td>\n",
       "      <td>Herbed Chicken, Schezwan Chicken Meatball, Chi...</td>\n",
       "    </tr>\n",
       "    <tr>\n",
       "      <td>4</td>\n",
       "      <td>Chicken Tikka Supreme</td>\n",
       "      <td>Chicken Tikka, Chicken Malai Tikka, Onion, Red...</td>\n",
       "    </tr>\n",
       "  </tbody>\n",
       "</table>\n",
       "</div>"
      ],
      "text/plain": [
       "                    name                                        description\n",
       "0  Double Paneer Supreme  Spiced Paneer, Herbed Onion & Green Capsicum, ...\n",
       "1            Veg Exotica  Baby Corn, Black Olives, Green Capsicum, Jalap...\n",
       "2         Veggie Supreme  Black Olives, Green Capsicum, Mushroom, Onion,...\n",
       "3        Chicken Supreme  Herbed Chicken, Schezwan Chicken Meatball, Chi...\n",
       "4  Chicken Tikka Supreme  Chicken Tikka, Chicken Malai Tikka, Onion, Red..."
      ]
     },
     "execution_count": 6,
     "metadata": {},
     "output_type": "execute_result"
    }
   ],
   "source": [
    "pizza_df.head()"
   ]
  },
  {
   "cell_type": "code",
   "execution_count": null,
   "metadata": {},
   "outputs": [],
   "source": []
  }
 ],
 "metadata": {
  "kernelspec": {
   "display_name": "Python 3",
   "language": "python",
   "name": "python3"
  },
  "language_info": {
   "codemirror_mode": {
    "name": "ipython",
    "version": 3
   },
   "file_extension": ".py",
   "mimetype": "text/x-python",
   "name": "python",
   "nbconvert_exporter": "python",
   "pygments_lexer": "ipython3",
   "version": "3.7.4"
  }
 },
 "nbformat": 4,
 "nbformat_minor": 2
}
