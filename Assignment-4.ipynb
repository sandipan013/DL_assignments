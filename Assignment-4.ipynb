{
 "cells": [
  {
   "cell_type": "markdown",
   "metadata": {},
   "source": [
    "#### 1.1 Write a Python Program(with class concepts) to find the area of the triangle using the below formula.\n",
    "#### area = (s*(s-a)*(s-b)*(s-c)) ** 0.5\n",
    "#### Function to take the length of the sides of triangle from user should be defined in the parent class and function to calculate the area should be defined in subclass.\n"
   ]
  },
  {
   "cell_type": "code",
   "execution_count": 10,
   "metadata": {},
   "outputs": [],
   "source": [
    "class triangle:\n",
    "    def inputSides(self):\n",
    "        self.sideone = float(input(\"Enter side 1: \"))\n",
    "        self.sidetwo = float(input(\"Enter side 2: \"))\n",
    "        self.sidethree = float(input(\"Enter side 3: \"))\n",
    "\n",
    "    def calculates(self):\n",
    "        return (self.sideone + self.sidetwo + self.sidethree) / 2"
   ]
  },
  {
   "cell_type": "code",
   "execution_count": 11,
   "metadata": {},
   "outputs": [],
   "source": [
    "class area(triangle):\n",
    "    def calculatearea(self):\n",
    "        s = self.calculates()\n",
    "        area = pow(s * (s - self.sideone) * (s - self.sidetwo) * (s - self.sidethree),.5)\n",
    "\n",
    "        return area"
   ]
  },
  {
   "cell_type": "code",
   "execution_count": 13,
   "metadata": {},
   "outputs": [
    {
     "name": "stdout",
     "output_type": "stream",
     "text": [
      "Enter side 1: 3\n",
      "Enter side 2: 4\n",
      "Enter side 3: 5\n",
      "6.0\n"
     ]
    }
   ],
   "source": [
    "a = area()\n",
    "\n",
    "a.inputSides()\n",
    "print(a.calculatearea())"
   ]
  },
  {
   "cell_type": "markdown",
   "metadata": {},
   "source": [
    "#### 1.2 Write a function filter_long_words() that takes a list of words and an integer n and returns the list of words that are longer than n."
   ]
  },
  {
   "cell_type": "code",
   "execution_count": 14,
   "metadata": {},
   "outputs": [],
   "source": [
    "def filter_long_words(l, num):\n",
    "    for word in l:\n",
    "        if len(word) > num:\n",
    "            yield word"
   ]
  },
  {
   "cell_type": "code",
   "execution_count": 15,
   "metadata": {},
   "outputs": [
    {
     "data": {
      "text/plain": [
       "['Sandipan', 'Biswas', 'Learning']"
      ]
     },
     "execution_count": 15,
     "metadata": {},
     "output_type": "execute_result"
    }
   ],
   "source": [
    "list(filter_long_words([\"Sandipan\", \"Biswas\", \"Learning\", \"new\"], 4))"
   ]
  },
  {
   "cell_type": "markdown",
   "metadata": {},
   "source": [
    "#### 2.1 Write a Python program using function concept that maps list of words into a list of integers representing the lengths of the corresponding words.\n",
    "##### Hint: If a list [ ab,cde,erty] is passed on to the python function output should come as [2,3,4] Here 2,3 and 4 are the lengths of the words in the list."
   ]
  },
  {
   "cell_type": "code",
   "execution_count": 19,
   "metadata": {},
   "outputs": [
    {
     "data": {
      "text/plain": [
       "[2, 3, 4]"
      ]
     },
     "execution_count": 19,
     "metadata": {},
     "output_type": "execute_result"
    }
   ],
   "source": [
    "def word_count(l):\n",
    "    mapped_word_count = map(lambda x: len(x), l)\n",
    "    return list(mapped_word_count)\n",
    "\n",
    "word_count([\"ab\",\"cde\",\"erty\"])"
   ]
  },
  {
   "cell_type": "markdown",
   "metadata": {},
   "source": [
    "#### 2.2 Write a Python function which takes a character (i.e. a string of length 1) and returns True if it is a vowel, False otherwise."
   ]
  },
  {
   "cell_type": "code",
   "execution_count": 22,
   "metadata": {},
   "outputs": [
    {
     "data": {
      "text/plain": [
       "False"
      ]
     },
     "execution_count": 22,
     "metadata": {},
     "output_type": "execute_result"
    }
   ],
   "source": [
    "def check_vowel(character):\n",
    "    vowel_list = [\"a\", \"e\", \"i\", \"o\", \"u\"]\n",
    "    if character.lower() in vowel_list:\n",
    "        return True\n",
    "    else:\n",
    "        return False\n",
    "    \n",
    "    \n",
    "check_vowel(\"w\")"
   ]
  },
  {
   "cell_type": "code",
   "execution_count": null,
   "metadata": {},
   "outputs": [],
   "source": []
  }
 ],
 "metadata": {
  "kernelspec": {
   "display_name": "Python 3",
   "language": "python",
   "name": "python3"
  },
  "language_info": {
   "codemirror_mode": {
    "name": "ipython",
    "version": 3
   },
   "file_extension": ".py",
   "mimetype": "text/x-python",
   "name": "python",
   "nbconvert_exporter": "python",
   "pygments_lexer": "ipython3",
   "version": "3.7.4"
  }
 },
 "nbformat": 4,
 "nbformat_minor": 2
}
